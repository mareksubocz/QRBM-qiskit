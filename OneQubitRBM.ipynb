{
 "cells": [
  {
   "cell_type": "code",
   "execution_count": 11,
   "metadata": {},
   "outputs": [],
   "source": [
    "from qiskit import IBMQ\n",
    "# IBMQ.save_account(MY_API_TOKEN)\n",
    "import qiskit \n",
    "qiskit.__version__\n",
    "\n",
    "import numpy as np\n",
    "from qiskit import QuantumCircuit, QuantumRegister\n",
    "from qiskit.quantum_info.operators import Operator\n",
    "from qiskit import(QuantumCircuit, execute, Aer)\n",
    "from qiskit.visualization import plot_histogram\n",
    "from qiskit.extensions import Initialize # Import the Inititialize function"
   ]
  },
  {
   "cell_type": "code",
   "execution_count": 12,
   "metadata": {},
   "outputs": [],
   "source": [
    "theta = np.pi / 6\n",
    "x = 0.25"
   ]
  },
  {
   "cell_type": "code",
   "execution_count": 13,
   "metadata": {},
   "outputs": [
    {
     "data": {
      "text/plain": [
       "<qiskit.circuit.instructionset.InstructionSet at 0x299977315c0>"
      ]
     },
     "execution_count": 13,
     "metadata": {},
     "output_type": "execute_result"
    }
   ],
   "source": [
    "qc = QuantumCircuit(2,2)\n",
    "initial_state = [np.sqrt(x), np.sqrt(1-x)]\n",
    "initialize_qubit = Initialize(initial_state)\n",
    "qc.append(initialize_qubit, [0])\n",
    "qc.h(0)\n",
    "# qc.unitary(Rz(0), [0], label='Rz')\n",
    "qc.rz(theta, 0)\n",
    "qc.cx(0,1)\n",
    "qc.h(1)\n",
    "# Map the quantum measurement to the classical bits\n",
    "qc.measure([0], [0])"
   ]
  },
  {
   "cell_type": "code",
   "execution_count": 15,
   "metadata": {},
   "outputs": [
    {
     "name": "stdout",
     "output_type": "stream",
     "text": [
      "\n",
      "Total count for 0 and 1 are: {'01': 62, '00': 938}\n"
     ]
    },
    {
     "data": {
      "text/html": [
       "<pre style=\"word-wrap: normal;white-space: pre;background: #fff0;line-height: 1.1;font-family: &quot;Courier New&quot;,Courier,monospace\">        ┌─────────────────────────┐┌───┐┌──────────┐          ┌─┐\n",
       "q_0: |0>┤ Initialize(0.5,0.86603) ├┤ H ├┤ Rz(pi/6) ├──■───────┤M├\n",
       "        └─────────────────────────┘└───┘└──────────┘┌─┴─┐┌───┐└╥┘\n",
       "q_1: |0>────────────────────────────────────────────┤ X ├┤ H ├─╫─\n",
       "                                                    └───┘└───┘ ║ \n",
       " c_0: 0 ═══════════════════════════════════════════════════════╩═\n",
       "                                                                 \n",
       " c_1: 0 ═════════════════════════════════════════════════════════\n",
       "                                                                 </pre>"
      ],
      "text/plain": [
       "        ┌─────────────────────────┐┌───┐┌──────────┐          ┌─┐\n",
       "q_0: |0>┤ Initialize(0.5,0.86603) ├┤ H ├┤ Rz(pi/6) ├──■───────┤M├\n",
       "        └─────────────────────────┘└───┘└──────────┘┌─┴─┐┌───┐└╥┘\n",
       "q_1: |0>────────────────────────────────────────────┤ X ├┤ H ├─╫─\n",
       "                                                    └───┘└───┘ ║ \n",
       " c_0: 0 ═══════════════════════════════════════════════════════╩═\n",
       "                                                                 \n",
       " c_1: 0 ═════════════════════════════════════════════════════════\n",
       "                                                                 "
      ]
     },
     "execution_count": 15,
     "metadata": {},
     "output_type": "execute_result"
    }
   ],
   "source": [
    "# Use Aer's qasm_simulator\n",
    "simulator = Aer.get_backend('qasm_simulator')\n",
    "\n",
    "# Execute the circuit on the qasm simulator\n",
    "job = execute(qc, simulator, shots=1000)\n",
    "\n",
    "# Grab results from the job\n",
    "result = job.result()\n",
    "\n",
    "# Returns counts\n",
    "counts = result.get_counts(qc)\n",
    "print(\"\\nTotal count for 0 and 1 are:\",counts)\n",
    "qc.draw()"
   ]
  },
  {
   "cell_type": "code",
   "execution_count": null,
   "metadata": {},
   "outputs": [],
   "source": []
  }
 ],
 "metadata": {
  "kernelspec": {
   "display_name": "Python 3",
   "language": "python",
   "name": "python3"
  },
  "language_info": {
   "codemirror_mode": {
    "name": "ipython",
    "version": 3
   },
   "file_extension": ".py",
   "mimetype": "text/x-python",
   "name": "python",
   "nbconvert_exporter": "python",
   "pygments_lexer": "ipython3",
   "version": "3.7.3"
  }
 },
 "nbformat": 4,
 "nbformat_minor": 2
}
