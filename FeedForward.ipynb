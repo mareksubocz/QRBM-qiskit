{
 "cells": [
  {
   "cell_type": "code",
   "execution_count": 12,
   "metadata": {
    "collapsed": false
   },
   "outputs": [
   ],
   "source": [
    "from qiskit import IBMQ\n",
    "# IBMQ.save_account(MY_API_TOKEN)\n",
    "import qiskit\n",
    "qiskit.__version__\n",
    "\n",
    "\n",
    "import scipy\n",
    "import numpy as np\n",
    "import random\n",
    "\n",
    "from sklearn import preprocessing\n",
    "from qiskit import QuantumCircuit, QuantumRegister, ClassicalRegister\n",
    "from qiskit.quantum_info.operators import Operator\n",
    "from qiskit import(QuantumCircuit, execute, Aer)\n",
    "from qiskit.visualization import plot_histogram\n",
    "from qiskit.extensions import Initialize # Import the Inititialize function\n",
    "from qiskit.aqua.circuits.gates import multi_control_toffoli_gate\n",
    "from qiskit.aqua.circuits.gates import multi_control_multi_target_gate"
   ]
  },
  {
   "cell_type": "code",
   "execution_count": 2,
   "metadata": {
    "collapsed": false
   },
   "outputs": [
   ],
   "source": [
    "# JUŻ NIEPOTRZEBNE - TUTAJ BYŁY HIPERPARAMETRY OBWODU TESOWEGO\n",
    "# #definicja rozmiaru sieci\n",
    "# visible = 1\n",
    "# hidden = 1\n",
    "# ancilla = visible-1\n",
    "\n",
    "# #definicja wejścia (x) oraz inicjalizacja macierzy wag\n",
    "# x = np.array([random.uniform(0, 1) for n in range(visible)])\n",
    "# weight_matrix = np.random.rand(visible, hidden) * np.pi"
   ]
  },
  {
   "cell_type": "code",
   "execution_count": 3,
   "metadata": {
    "collapsed": false
   },
   "outputs": [
   ],
   "source": [
    "# JUŻ NIEPOTRZEBNE - TUTAJ BYŁ BUDOWANY OBWÓD TESTOWY\n",
    "# # definicja obwodu (linii qubitów)\n",
    "# # qc = QuantumCircuit(visible + hidden, visible)\n",
    "\n",
    "# qr = QuantumRegister(visible + hidden + ancilla, 'q')\n",
    "# cr = ClassicalRegister(visible + hidden, 'c')\n",
    "# qc = QuantumCircuit(qr, cr)\n",
    "\n",
    "# # inicjalizacja wartości qubitów wejściowych (x) na razie randomowa\n",
    "# initial_state = [[np.sqrt(x[i]), np.sqrt(1-x[i])] for i in range(len(x))]\n",
    "\n",
    "# # inicjalizacja wartości qubitów wejściowych i bramka Hadamarda\n",
    "# for i in range(visible):\n",
    "#     initialize_qubit = Initialize(initial_state[i])\n",
    "#     qc.append(initialize_qubit, [i])\n",
    "#     qc.h(i)\n",
    "    \n",
    "# # ciąg bramek CNOT i bramek rotacji R (zależnych od parametrów)\n",
    "# for i in range(hidden):\n",
    "#     for j in range(visible):\n",
    "#         qc.rz(weight_matrix[j][i], j)\n",
    "#     multi_control_toffoli_gate.mct(qc, [qr[k] for k in range(visible)], qr[visible + i], [qr[i] for i in range(visible + hidden, visible + hidden + ancilla)], mode='basic')\n",
    "    \n",
    "    \n",
    "    \n",
    "# # bramki Hadamarda na warstwie ukrytej\n",
    "# for i in range(hidden):\n",
    "#     qc.h(visible + i)\n",
    "\n",
    "    \n",
    "# # pomiar linii visible\n",
    "# qc.measure(list(range(visible, visible+hidden)), list(range(visible, visible+hidden)))\n",
    "\n",
    "\n",
    "# ### OBWÓD DRUGĄ STRONĘ\n",
    "\n",
    "# # wyzerowanie wartości qubitów visible\n",
    "# for i in range(visible):\n",
    "#     initialize_qubit = Initialize([1, 0])\n",
    "#     qc.append(initialize_qubit, [i])\n",
    "    \n",
    "# # bramka Hadamarda na qubitach hidden\n",
    "# for i in range(visible, hidden + visible):\n",
    "#     qc.h(i)\n",
    "    \n",
    "# #odwrócone rotacje i CNOTy\n",
    "# for i in range(hidden):\n",
    "#     for j in range(visible):\n",
    "#         multi_control_toffoli_gate.mct(qc, [qr[k] for k in range(visible, visible + hidden)], qr[j], [qr[k] for k in range(visible + hidden, visible + hidden + ancilla)], mode='basic')\n",
    "#         qc.rz(-weight_matrix[j][hidden - 1 - i], j)\n",
    "        \n",
    "# # bramka Hadamarda i pomiar na qubitach visible\n",
    "# for i in range(visible):\n",
    "#     qc.h(i)\n",
    "#     qc.measure(list(range(visible)), list(range(visible)))\n",
    "    "
   ]
  },
  {
   "cell_type": "code",
   "execution_count": 4,
   "metadata": {
    "collapsed": false
   },
   "outputs": [
   ],
   "source": [
    "# EKSPERYMNET Z TESTOWYM UKŁADEM - JUŻ NIEPOTRZEBNY\n",
    "# # Use Aer's qasm_simulator\n",
    "# simulator = Aer.get_backend('qasm_simulator')\n",
    "\n",
    "# # Execute the circuit on the qasm simulator\n",
    "# job = execute(qc, simulator, shots=1000)\n",
    "\n",
    "# # Grab results from the job\n",
    "# result = job.result()\n",
    "\n",
    "# # Returns counts\n",
    "# counts = result.get_counts(qc)\n",
    "# print(\"\\nTotal count for 0 and 1 are:\",counts)\n",
    "# # qc.draw(output='mpl')\n",
    "# qc.draw()"
   ]
  },
  {
   "cell_type": "code",
   "execution_count": 5,
   "metadata": {
    "collapsed": false
   },
   "outputs": [
   ],
   "source": [
    "# # komórka do testowania wieloqubitowej bramki CNOT - JUŻ NIEPOTRZEBNA BO BRAMKA DZIAŁA\n",
    "# # NIE ZALEŻNA OD WŁAŚCIWEJ SIECI\n",
    "\n",
    "# # work = ancilla\n",
    "# def n_control_gate(qc, target, control: list, work: list, gate_type):\n",
    "#     if len(control) - len(work) != 1:\n",
    "#         raise Exception(\"Wrong number of control or work qubits!\")\n",
    "\n",
    "#     qc.toffoli(control[0], control[1], work[0])\n",
    "#     control_left = control[2:]\n",
    "    \n",
    "#     for i, c_bit in enumerate(control_left):\n",
    "#         qc.toffoli(c_bit, work[i], work[i+1])\n",
    "    \n",
    "#     qc.gate_type(work[-1], target)\n",
    "    \n",
    "#     for i, c_bit in reversed(list(enumerate(control_left))):\n",
    "#         qc.toffoli(c_bit, work[i], work[i+1])\n",
    "    \n",
    "#     qc.toffoli(control[0], control[1], work[0])\n",
    "    \n",
    "    \n",
    "\n",
    "        \n",
    "\n",
    "# visible = 2\n",
    "# hidden = 2\n",
    "# ancilla = visible - 1\n",
    "\n",
    "# # qr_visible = QuantumRegister(visible, 'visible')\n",
    "# # qr_hidden = QuantumRegister(hidden, 'hidden')\n",
    "# # cr = ClassicalRegister(3, 'c')\n",
    "# # if visible > 2:\n",
    "# #     anc = QuantumRegister(visible - 2, 'ancilla')\n",
    "# #     qc = QuantumCircuit(qr_visible, qr_hidden, anc, cr)\n",
    "# # else:\n",
    "# #     qc = QuantumCircuit(qr_visible, qr_hidden, cr)\n",
    "\n",
    "\n",
    "# # qr_visible = QuantumRegister(visible, 'visible')\n",
    "# qr = QuantumRegister(visible + hidden + ancilla, 'q')\n",
    "# cr = ClassicalRegister(3, 'c')\n",
    "# qc = QuantumCircuit(qr, cr)\n",
    "\n",
    "\n",
    "# for i in range(visible + hidden):\n",
    "#     initialize_qubit = Initialize([0, 1])\n",
    "#     qc.append(initialize_qubit, [i])\n",
    "# # initialize_qubit = Initialize([1, 0])\n",
    "# # qc.append(initialize_qubit, [2])\n",
    "# # for i in range(hidden):\n",
    "# #     for j in range(visible):\n",
    "# #         qc.rz(weight_matrix[j][i], j)\n",
    "# print(list(range(visible)) + [visible + 0])\n",
    "# print(list(range(visible+hidden, visible+hidden+ancilla)))\n",
    "# # multi_control_multi_target_gate.mcmt(qc, list(range(visible)), [], QuantumCircuit.cx, [visible])\n",
    "\n",
    "# # print([qr_visible[i] for i in range(visible)])\n",
    "# # print([anc[i] for i in range(ancilla)])\n",
    "# # print([qr_hidden[i] for i in range(hidden)])\n",
    "# for j in range(hidden):\n",
    "#     multi_control_multi_target_gate.mcmt(qc, [qr[i] for i in range(visible)], [qr[i] for i in range(visible + hidden, visible + hidden + ancilla)], QuantumCircuit.cx, [qr[visible + j]])\n",
    "\n",
    "# # multi_control_multi_target_gate.mcmt(qc, [qr_visible[i] for i in range(visible)], [anc[i] for i in range(ancilla)], QuantumCircuit.cx, [qr_hidden[0]])\n",
    "# # qc.measure(list(range(visible+hidden)), list(range(visible + hidden)))\n",
    "# # (qc, list(range(visible)) + [visible + 0], qancilla = 6)\n",
    "\n",
    "\n",
    "# # Use Aer's qasm_simulator\n",
    "# simulator = Aer.get_backend('qasm_simulator')\n",
    "\n",
    "# # Execute the circuit on the qasm simulator\n",
    "# job = execute(qc, simulator, shots=1000)\n",
    "\n",
    "# # Grab results from the job\n",
    "# result = job.result()\n",
    "\n",
    "# # Returns counts\n",
    "# counts = result.get_counts(qc)\n",
    "# print(\"\\nTotal count for 0 and 1 are:\",counts)\n",
    "# qc.draw()"
   ]
  },
  {
   "cell_type": "code",
   "execution_count": 6,
   "metadata": {
    "collapsed": false
   },
   "outputs": [
   ],
   "source": [
    "# TO JUŻ NIEPOTRZEBNE - NIE DZIAŁA TEN SPOSÓB Z ARTYKUŁU\n",
    "\n",
    "# print(weight_matrix, '\\n')\n",
    "# sinus_matrix = np.sin(weight_matrix + np.pi/4)\n",
    "# print(sinus_matrix, '\\n')\n",
    "# print(sinus_matrix.prod(axis = 0), '\\n')\n",
    "# phi = np.arcsin(sinus_matrix.prod(axis = 0))\n",
    "# print(phi, '\\n')\n",
    "# psi = phi + np.pi/4\n",
    "# print(psi, '\\n')\n",
    "# ph = np.sin(psi)**2\n",
    "# print(ph, '\\n')\n",
    "# # ph_normalized = preprocessing.normalize([ph], norm = 'l1')[0]\n",
    "# # print(ph_normalized)"
   ]
  },
  {
   "cell_type": "code",
   "execution_count": 13,
   "metadata": {
    "collapsed": false
   },
   "outputs": [
   ],
   "source": [
    "def exctract_single_qubit_measurment(dict_of_counts, qubit_range):\n",
    "#     print(dict_of_counts)\n",
    "#     print(len(list(dict_of_counts.keys())[0]))\n",
    "    num_qubits = len(list(dict_of_counts.keys())[0])\n",
    "#     result = np.zeros(len(qubit_range))\n",
    "    result = np.zeros(num_qubits)\n",
    "#     print(result)\n",
    "    for el in dict_of_counts:\n",
    "        for i in range(num_qubits):\n",
    "#             print(\"i\", i)\n",
    "#             print(\"el[i]\", el[i])\n",
    "            if i in qubit_range and el[i] == '1':\n",
    "                result[i] += dict_of_counts[el]\n",
    "#     print(result)\n",
    "#     print(result[qubit_range])\n",
    "    return result[qubit_range]"
   ]
  },
  {
   "cell_type": "code",
   "execution_count": 14,
   "metadata": {
    "collapsed": false
   },
   "outputs": [
    {
     "name": "stdout",
     "output_type": "stream",
     "text": [
      "[{'x': array([1, 1]), 'y': 1}, {'x': array([0, 1]), 'y': 1}, {'x': array([0, 1]), 'y': 1}, {'x': array([0, 1]), 'y': 1}]\n"
     ]
    }
   ],
   "source": [
    "def create_dataset(dataset_size):\n",
    "    dataset = []\n",
    "    for i in range(dataset_size):\n",
    "        x = np.array([random.choice([0,1]), random.choice([0,1])])\n",
    "        y = 1\n",
    "        if np.array_equal(x, np.array([0,0])):\n",
    "            y = 0\n",
    "        dataset.append({\"x\": x, \"y\": y})\n",
    "    return dataset\n",
    "\n",
    "dataset = create_dataset(4)\n",
    "print(dataset)"
   ]
  },
  {
   "cell_type": "code",
   "execution_count": 15,
   "metadata": {
    "collapsed": false
   },
   "outputs": [
   ],
   "source": [
    "def circuit_function(qc, weight_matrix):\n",
    "    qc.data = []\n",
    "\n",
    "    # inicjalizacja wartości qubitów wejściowych (x)\n",
    "    initial_state = [[np.sqrt(1-x[i]), np.sqrt(x[i])] for i in range(len(x))]\n",
    "\n",
    "    # inicjalizacja wartości qubitów wejściowych i bramka Hadamarda\n",
    "    for i in range(visible):\n",
    "        initialize_qubit = Initialize(initial_state[i])\n",
    "        qc.append(initialize_qubit, [i])\n",
    "        qc.h(i)\n",
    "\n",
    "    # ciąg bramek CNOT i bramek rotacji R (zależnych od parametrów)\n",
    "    for i in range(hidden):\n",
    "        for j in range(visible):\n",
    "            qc.ry(weight_matrix[j][i], j)\n",
    "        multi_control_toffoli_gate.mct(qc, [qr[k] for k in range(visible)], qr[visible + i], [qr[i] for i in range(visible + hidden, visible + hidden + ancilla)], mode='basic')\n",
    "\n",
    "#     bramki Hadamarda na warstwie ukrytej\n",
    "#     for i in range(hidden):\n",
    "#         qc.h(visible + i)\n",
    "\n",
    "    # pomiar linii visible\n",
    "    qc.measure(list(range(visible, visible+hidden)), list(range(hidden)))\n",
    "    \n",
    "    #eksperyment:\n",
    "    #symylator\n",
    "    simulator = Aer.get_backend('qasm_simulator')\n",
    "\n",
    "    # Execute the circuit on the qasm simulator\n",
    "    job = execute(qc, simulator, shots=num_shots)\n",
    "\n",
    "    # Grab results from the job\n",
    "    result = job.result()\n",
    "\n",
    "    # Returns counts\n",
    "    counts = result.get_counts(qc)\n",
    "#     print(counts)\n",
    "    ph = exctract_single_qubit_measurment(counts, list(range(hidden))) / num_shots\n",
    "#     print(\"\\nProbabilities are:\",ph)\n",
    "    return ph[0]\n",
    "\n",
    "\n",
    "epsilon = 0.01\n",
    "def update2(ph, expected_ph, weight_matrix, lr):\n",
    "    gradient = []\n",
    "    for i, row in enumerate(weight_matrix):\n",
    "        gradient_row = []\n",
    "        for j, el in enumerate(row):\n",
    "            weight_matrix[i][j] += epsilon\n",
    "            result_plus = circuit_function(qc, weight_matrix)\n",
    "\n",
    "            weight_matrix[i][j] -= 2*epsilon\n",
    "            result_minus = circuit_function(qc, weight_matrix)\n",
    "\n",
    "            weight_matrix[i][j] += epsilon\n",
    "#             result_zero = circuit_function(qc, weight_matrix)\n",
    "#             print(\"ph\", result_zero)\n",
    "#             print(\"exp_ph\", expected_ph)\n",
    "#             print(\"el final:\", el)\n",
    "#             print(result_plus - result_minus)\n",
    "            result = (result_plus - result_minus)/(2*epsilon) * lr * (ph - expected_ph)\n",
    "            gradient_row.append(result)\n",
    "        gradient.append(gradient_row)\n",
    "#     print(\"gradient\", gradient)\n",
    "\n",
    "    weight_matrix = weight_matrix - gradient\n",
    "    return weight_matrix\n",
    "    \n",
    "    \n",
    "# update2()"
   ]
  },
  {
   "cell_type": "code",
   "execution_count": 16,
   "metadata": {
    "collapsed": false,
    "scrolled": true
   },
   "outputs": [
    {
     "name": "stdout",
     "output_type": "stream",
     "text": [
      "1\n",
      "0\n",
      "[0, 1]\n",
      "epoch:  0\n"
     ]
    },
    {
     "name": "stdout",
     "output_type": "stream",
     "text": [
      "epoch:  1\n"
     ]
    },
    {
     "name": "stdout",
     "output_type": "stream",
     "text": [
      "epoch:  2\n"
     ]
    },
    {
     "name": "stdout",
     "output_type": "stream",
     "text": [
      "epoch:  3\n"
     ]
    },
    {
     "name": "stdout",
     "output_type": "stream",
     "text": [
      "epoch:  4\n"
     ]
    },
    {
     "name": "stdout",
     "output_type": "stream",
     "text": [
      "epoch:  5\n"
     ]
    },
    {
     "name": "stdout",
     "output_type": "stream",
     "text": [
      "epoch:  6\n"
     ]
    },
    {
     "name": "stdout",
     "output_type": "stream",
     "text": [
      "epoch:  7\n"
     ]
    },
    {
     "name": "stdout",
     "output_type": "stream",
     "text": [
      "epoch:  8\n"
     ]
    },
    {
     "name": "stdout",
     "output_type": "stream",
     "text": [
      "epoch:  9\n"
     ]
    },
    {
     "name": "stdout",
     "output_type": "stream",
     "text": [
      "epoch:  10\n"
     ]
    },
    {
     "name": "stdout",
     "output_type": "stream",
     "text": [
      "epoch:  11\n"
     ]
    },
    {
     "name": "stdout",
     "output_type": "stream",
     "text": [
      "epoch:  12\n"
     ]
    },
    {
     "name": "stdout",
     "output_type": "stream",
     "text": [
      "epoch:  13\n"
     ]
    },
    {
     "name": "stdout",
     "output_type": "stream",
     "text": [
      "epoch:  14\n"
     ]
    },
    {
     "name": "stdout",
     "output_type": "stream",
     "text": [
      "epoch:  15\n"
     ]
    },
    {
     "name": "stdout",
     "output_type": "stream",
     "text": [
      "epoch:  16\n"
     ]
    },
    {
     "name": "stdout",
     "output_type": "stream",
     "text": [
      "epoch:  17\n"
     ]
    },
    {
     "name": "stdout",
     "output_type": "stream",
     "text": [
      "epoch:  18\n"
     ]
    },
    {
     "name": "stdout",
     "output_type": "stream",
     "text": [
      "epoch:  19\n"
     ]
    },
    {
     "name": "stdout",
     "output_type": "stream",
     "text": [
      "epoch:  20\n"
     ]
    },
    {
     "name": "stdout",
     "output_type": "stream",
     "text": [
      "epoch:  21\n"
     ]
    },
    {
     "name": "stdout",
     "output_type": "stream",
     "text": [
      "epoch:  22\n"
     ]
    },
    {
     "name": "stdout",
     "output_type": "stream",
     "text": [
      "epoch:  23\n"
     ]
    },
    {
     "name": "stdout",
     "output_type": "stream",
     "text": [
      "epoch:  24\n"
     ]
    },
    {
     "name": "stdout",
     "output_type": "stream",
     "text": [
      "epoch:  25\n"
     ]
    },
    {
     "name": "stdout",
     "output_type": "stream",
     "text": [
      "epoch:  26\n"
     ]
    },
    {
     "name": "stdout",
     "output_type": "stream",
     "text": [
      "epoch:  27\n"
     ]
    },
    {
     "name": "stdout",
     "output_type": "stream",
     "text": [
      "epoch:  28\n"
     ]
    },
    {
     "name": "stdout",
     "output_type": "stream",
     "text": [
      "epoch:  29\n"
     ]
    },
    {
     "name": "stdout",
     "output_type": "stream",
     "text": [
      "epoch:  30\n"
     ]
    },
    {
     "name": "stdout",
     "output_type": "stream",
     "text": [
      "epoch:  31\n"
     ]
    },
    {
     "name": "stdout",
     "output_type": "stream",
     "text": [
      "epoch:  32\n"
     ]
    },
    {
     "name": "stdout",
     "output_type": "stream",
     "text": [
      "epoch:  33\n"
     ]
    },
    {
     "name": "stdout",
     "output_type": "stream",
     "text": [
      "epoch:  34\n"
     ]
    },
    {
     "name": "stdout",
     "output_type": "stream",
     "text": [
      "epoch:  35\n"
     ]
    },
    {
     "name": "stdout",
     "output_type": "stream",
     "text": [
      "epoch:  36\n"
     ]
    },
    {
     "name": "stdout",
     "output_type": "stream",
     "text": [
      "epoch:  37\n"
     ]
    },
    {
     "name": "stdout",
     "output_type": "stream",
     "text": [
      "epoch:  38\n"
     ]
    },
    {
     "name": "stdout",
     "output_type": "stream",
     "text": [
      "epoch:  39\n"
     ]
    },
    {
     "name": "stdout",
     "output_type": "stream",
     "text": [
      "epoch:  40\n"
     ]
    },
    {
     "name": "stdout",
     "output_type": "stream",
     "text": [
      "epoch:  41\n"
     ]
    },
    {
     "name": "stdout",
     "output_type": "stream",
     "text": [
      "epoch:  42\n"
     ]
    },
    {
     "name": "stdout",
     "output_type": "stream",
     "text": [
      "epoch:  43\n"
     ]
    },
    {
     "name": "stdout",
     "output_type": "stream",
     "text": [
      "epoch:  44\n"
     ]
    },
    {
     "name": "stdout",
     "output_type": "stream",
     "text": [
      "epoch:  45\n"
     ]
    },
    {
     "name": "stdout",
     "output_type": "stream",
     "text": [
      "epoch:  46\n"
     ]
    },
    {
     "name": "stdout",
     "output_type": "stream",
     "text": [
      "epoch:  47\n"
     ]
    },
    {
     "name": "stdout",
     "output_type": "stream",
     "text": [
      "epoch:  48\n"
     ]
    },
    {
     "name": "stdout",
     "output_type": "stream",
     "text": [
      "epoch:  49\n"
     ]
    },
    {
     "name": "stdout",
     "output_type": "stream",
     "text": [
      "epoch:  50\n"
     ]
    },
    {
     "name": "stdout",
     "output_type": "stream",
     "text": [
      "epoch:  51\n"
     ]
    },
    {
     "name": "stdout",
     "output_type": "stream",
     "text": [
      "epoch:  52\n"
     ]
    },
    {
     "name": "stdout",
     "output_type": "stream",
     "text": [
      "epoch:  53\n"
     ]
    },
    {
     "name": "stdout",
     "output_type": "stream",
     "text": [
      "epoch:  54\n"
     ]
    },
    {
     "name": "stdout",
     "output_type": "stream",
     "text": [
      "epoch:  55\n"
     ]
    },
    {
     "name": "stdout",
     "output_type": "stream",
     "text": [
      "epoch:  56\n"
     ]
    },
    {
     "name": "stdout",
     "output_type": "stream",
     "text": [
      "epoch:  57\n"
     ]
    },
    {
     "name": "stdout",
     "output_type": "stream",
     "text": [
      "epoch:  58\n"
     ]
    },
    {
     "name": "stdout",
     "output_type": "stream",
     "text": [
      "epoch:  59\n"
     ]
    },
    {
     "name": "stdout",
     "output_type": "stream",
     "text": [
      "epoch:  60\n"
     ]
    },
    {
     "name": "stdout",
     "output_type": "stream",
     "text": [
      "epoch:  61\n"
     ]
    },
    {
     "name": "stdout",
     "output_type": "stream",
     "text": [
      "epoch:  62\n"
     ]
    },
    {
     "name": "stdout",
     "output_type": "stream",
     "text": [
      "epoch:  63\n"
     ]
    },
    {
     "name": "stdout",
     "output_type": "stream",
     "text": [
      "epoch:  64\n"
     ]
    },
    {
     "name": "stdout",
     "output_type": "stream",
     "text": [
      "epoch:  65\n"
     ]
    },
    {
     "name": "stdout",
     "output_type": "stream",
     "text": [
      "epoch:  66\n"
     ]
    },
    {
     "name": "stdout",
     "output_type": "stream",
     "text": [
      "epoch:  67\n"
     ]
    },
    {
     "name": "stdout",
     "output_type": "stream",
     "text": [
      "epoch:  68\n"
     ]
    },
    {
     "name": "stdout",
     "output_type": "stream",
     "text": [
      "epoch:  69\n"
     ]
    },
    {
     "name": "stdout",
     "output_type": "stream",
     "text": [
      "epoch:  70\n"
     ]
    },
    {
     "name": "stdout",
     "output_type": "stream",
     "text": [
      "epoch:  71\n"
     ]
    },
    {
     "name": "stdout",
     "output_type": "stream",
     "text": [
      "epoch:  72\n"
     ]
    },
    {
     "name": "stdout",
     "output_type": "stream",
     "text": [
      "epoch:  73\n"
     ]
    },
    {
     "name": "stdout",
     "output_type": "stream",
     "text": [
      "epoch:  74\n"
     ]
    },
    {
     "name": "stdout",
     "output_type": "stream",
     "text": [
      "epoch:  75\n"
     ]
    },
    {
     "name": "stdout",
     "output_type": "stream",
     "text": [
      "epoch:  76\n"
     ]
    },
    {
     "name": "stdout",
     "output_type": "stream",
     "text": [
      "epoch:  77\n"
     ]
    },
    {
     "name": "stdout",
     "output_type": "stream",
     "text": [
      "epoch:  78\n"
     ]
    },
    {
     "name": "stdout",
     "output_type": "stream",
     "text": [
      "epoch:  79\n"
     ]
    },
    {
     "name": "stdout",
     "output_type": "stream",
     "text": [
      "epoch:  80\n"
     ]
    },
    {
     "name": "stdout",
     "output_type": "stream",
     "text": [
      "epoch:  81\n"
     ]
    },
    {
     "name": "stdout",
     "output_type": "stream",
     "text": [
      "epoch:  82\n"
     ]
    },
    {
     "name": "stdout",
     "output_type": "stream",
     "text": [
      "epoch:  83\n"
     ]
    },
    {
     "name": "stdout",
     "output_type": "stream",
     "text": [
      "epoch:  84\n"
     ]
    },
    {
     "name": "stdout",
     "output_type": "stream",
     "text": [
      "epoch:  85\n"
     ]
    },
    {
     "name": "stdout",
     "output_type": "stream",
     "text": [
      "epoch:  86\n"
     ]
    },
    {
     "name": "stdout",
     "output_type": "stream",
     "text": [
      "epoch:  87\n"
     ]
    },
    {
     "name": "stdout",
     "output_type": "stream",
     "text": [
      "epoch:  88\n"
     ]
    },
    {
     "name": "stdout",
     "output_type": "stream",
     "text": [
      "epoch:  89\n"
     ]
    },
    {
     "name": "stdout",
     "output_type": "stream",
     "text": [
      "epoch:  90\n"
     ]
    },
    {
     "name": "stdout",
     "output_type": "stream",
     "text": [
      "epoch:  91\n"
     ]
    },
    {
     "name": "stdout",
     "output_type": "stream",
     "text": [
      "epoch:  92\n"
     ]
    },
    {
     "name": "stdout",
     "output_type": "stream",
     "text": [
      "epoch:  93\n"
     ]
    },
    {
     "name": "stdout",
     "output_type": "stream",
     "text": [
      "epoch:  94\n"
     ]
    },
    {
     "name": "stdout",
     "output_type": "stream",
     "text": [
      "epoch:  95\n"
     ]
    },
    {
     "name": "stdout",
     "output_type": "stream",
     "text": [
      "epoch:  96\n"
     ]
    },
    {
     "name": "stdout",
     "output_type": "stream",
     "text": [
      "epoch:  97\n"
     ]
    },
    {
     "name": "stdout",
     "output_type": "stream",
     "text": [
      "epoch:  98\n"
     ]
    },
    {
     "name": "stdout",
     "output_type": "stream",
     "text": [
      "epoch:  99\n"
     ]
    },
    {
     "data": {
      "text/plain": [
       "[<matplotlib.lines.Line2D at 0x7f800c0366d8>]"
      ]
     },
     "execution_count": 16,
     "metadata": {
     },
     "output_type": "execute_result"
    },
    {
     "data": {
      "image/png": "[encoded data removed]",
      "text/plain": [
       "<Figure size 432x288 with 1 Axes>"
      ]
     },
     "execution_count": 16,
     "metadata": {
      "image/png": {
       "height": 265,
       "width": 385
      },
      "needs_background": "light"
     },
     "output_type": "execute_result"
    }
   ],
   "source": [
    "# template do uczenia\n",
    "import matplotlib.pyplot as plt\n",
    "%matplotlib inline\n",
    "\n",
    "def update(exp_ph, ph):\n",
    "    global weight_matrix\n",
    "#     #obliczanie prawdopodobieństwa p(|h>) ze wzoru\n",
    "#     sinus_matrix = np.sin(weight_matrix + np.pi/4)\n",
    "#     phi = np.arcsin(sinus_matrix.prod(axis = 0))\n",
    "# #     print('phi', phi)\n",
    "#     psi = phi + np.pi/4\n",
    "# #     print('psi', psi)\n",
    "#     ph = np.sin(psi)**2\n",
    "# #     print('ph', ph)\n",
    "\n",
    "#obliczanie gradientu i,k\n",
    "    S = 1/(np.sqrt(1-(np.sin(phi))**2))\n",
    "#     print(\"S\", S)\n",
    "    T = np.sin(phi) * np.sum(1/np.tan(weight_matrix + np.pi/4), axis = 0)\n",
    "#     print(\"T\", T)\n",
    "#     print(\"sum products\", (exp_ph - ph) * ph * np.cos(2*psi) * S * T)\n",
    "    gradient = np.zeros(hidden)\n",
    "    for k in range(hidden):\n",
    "        gradient[k] = np.sum( (exp_ph - ph) * ph * np.cos(2*psi) * S * T[k])\n",
    "#     print(\"gradient = \", gradient)\n",
    "#     print([gradient] * len(weight_matrix))\n",
    "    weight_matrix = weight_matrix + ([gradient] * len(weight_matrix))\n",
    "\n",
    "\n",
    "\n",
    "#definicja rozmiaru sieci\n",
    "visible = 2\n",
    "hidden = 1\n",
    "ancilla = visible-1\n",
    "\n",
    "#definicja wejścia (x)oraz inicjalizacja macierzy wag\n",
    "# x = np.array([random.uniform(0, 1) for n in range(visible)])\n",
    "\n",
    "dataset = create_dataset(10)\n",
    "print(dataset[0][\"x\"][0])\n",
    "print(dataset[0][\"x\"][1])\n",
    "print([n for n in range(visible)])\n",
    "\n",
    "\n",
    "weight_matrix = np.random.rand(visible, hidden) * np.pi\n",
    "\n",
    "#definicja parametrów uczenia\n",
    "num_shots = 1000\n",
    "num_epochs = 100\n",
    "qr = QuantumRegister(visible + hidden + ancilla, 'q')\n",
    "cr = ClassicalRegister(hidden, 'c')\n",
    "qc = QuantumCircuit(qr, cr)\n",
    "\n",
    "cost_function_data = []\n",
    "lr = 0.05\n",
    "\n",
    "for epoch in range(num_epochs):\n",
    "    print(\"epoch: \", epoch)\n",
    "    for i, element in enumerate(dataset):\n",
    "#         print(element)\n",
    "        x = np.array([dataset[i][\"x\"][n] for n in range(visible)])\n",
    "        exp_ph = dataset[i][\"y\"]\n",
    "        ph = circuit_function(qc, weight_matrix)\n",
    "        weight_matrix = update2(ph, exp_ph, weight_matrix, lr)\n",
    "#         print(\"exp_ph\", exp_ph, \"ph\", ph, \"weight_matrix\", weight_matrix, \"cost_function\", 0.5 * (ph - exp_ph)**2)   \n",
    "    cost_function_data.append(0.5 * (ph - exp_ph)**2)\n",
    "qc.draw()\n",
    "plt.xlabel('number of epochs')\n",
    "plt.ylabel('cost')\n",
    "plt.plot(cost_function_data)\n"
   ]
  },
  {
   "cell_type": "code",
   "execution_count": 11,
   "metadata": {
    "collapsed": false
   },
   "outputs": [
    {
     "data": {
      "text/html": [
       "<pre style=\"word-wrap: normal;white-space: pre;background: #fff0;line-height: 1.1;font-family: &quot;Courier New&quot;,Courier,monospace\">        ┌─────────────────┐┌───┐ ┌───────────┐          \n",
       "q_0: |0>┤ Initialize(0,1) ├┤ H ├─┤ Ry(4.591) ├────■─────\n",
       "        ├─────────────────┤├───┤┌┴───────────┴─┐  │     \n",
       "q_1: |0>┤ Initialize(1,0) ├┤ H ├┤ Ry(-0.71869) ├──■─────\n",
       "        └─────────────────┘└───┘└──────────────┘┌─┴─┐┌─┐\n",
       "q_2: |0>────────────────────────────────────────┤ X ├┤M├\n",
       "                                                └───┘└╥┘\n",
       "q_3: |0>──────────────────────────────────────────────╫─\n",
       "                                                      ║ \n",
       " c_0: 0 ══════════════════════════════════════════════╩═\n",
       "                                                        </pre>"
      ],
      "text/plain": [
       "<qiskit.visualization.text.TextDrawing at 0x7f8086f68630>"
      ]
     },
     "execution_count": 11,
     "metadata": {
     },
     "output_type": "execute_result"
    }
   ],
   "source": [
    "qc.draw()"
   ]
  },
  {
   "cell_type": "code",
   "execution_count": 0,
   "metadata": {
    "collapsed": false
   },
   "outputs": [
   ],
   "source": [
   ]
  },
  {
   "cell_type": "code",
   "execution_count": 0,
   "metadata": {
    "collapsed": false
   },
   "outputs": [
   ],
   "source": [
   ]
  }
 ],
 "metadata": {
  "kernelspec": {
   "display_name": "Python 3 (system-wide)",
   "language": "python",
   "metadata": {
    "cocalc": {
     "description": "Python 3 programming language",
     "priority": 100,
     "url": "https://www.python.org/"
    }
   },
   "name": "python3"
  },
  "language_info": {
   "codemirror_mode": {
    "name": "ipython",
    "version": 3
   },
   "file_extension": ".py",
   "mimetype": "text/x-python",
   "name": "python",
   "nbconvert_exporter": "python",
   "pygments_lexer": "ipython3",
   "version": "3.6.9"
  }
 },
 "nbformat": 4,
 "nbformat_minor": 4
}